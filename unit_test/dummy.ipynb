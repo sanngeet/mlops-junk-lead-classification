{
 "cells": [
  {
   "cell_type": "code",
   "execution_count": 1,
   "id": "d2d569b0-450f-480c-8f9b-8113a5643375",
   "metadata": {},
   "outputs": [],
   "source": [
    "from utils import *\n",
    "from data_validation_checks import *\n",
    "from constants import *\n",
    "from city_tier_mapping import *\n",
    "from significant_categorical_level import *\n",
    "from schema import *"
   ]
  },
  {
   "cell_type": "code",
   "execution_count": 2,
   "id": "1ae1d434-3a98-4a50-adc0-77057989bdd8",
   "metadata": {},
   "outputs": [
    {
     "name": "stdout",
     "output_type": "stream",
     "text": [
      "DB Already Exists\n",
      "/home/assignment/01_data_pipeline/scripts\n"
     ]
    },
    {
     "data": {
      "text/plain": [
       "'DB Exists'"
      ]
     },
     "execution_count": 2,
     "metadata": {},
     "output_type": "execute_result"
    }
   ],
   "source": [
    "build_dbs(DB_PATH, DB_FILE_NAME)"
   ]
  },
  {
   "cell_type": "code",
   "execution_count": 3,
   "id": "0eafd39d-6385-4a56-bcc6-d5261a27c72a",
   "metadata": {},
   "outputs": [
    {
     "name": "stdout",
     "output_type": "stream",
     "text": [
      "Reading csv file from data directory\n",
      "Replacing any null values present in 'toal_leads_dropped' and 'referred_lead' with 0\n",
      "Saving the processed dataframe in the db in a table named 'loaded_data\n"
     ]
    }
   ],
   "source": [
    "load_data_into_db(DB_PATH, DB_FILE_NAME, DATA_DIRECTORY)"
   ]
  },
  {
   "cell_type": "code",
   "execution_count": 4,
   "id": "023a23bd-e943-45c1-876a-34a334c3850c",
   "metadata": {},
   "outputs": [
    {
     "name": "stdout",
     "output_type": "stream",
     "text": [
      "Connecting to database\n",
      "Reading data from loaded_data table\n",
      "loaded_data column length:  46\n",
      "raw_data_schema length:  45\n",
      "Raw datas schema is in line with the schema present in schema.py\n"
     ]
    }
   ],
   "source": [
    "raw_data_schema_check(DB_PATH, DB_FILE_NAME, raw_data_schema)"
   ]
  },
  {
   "cell_type": "code",
   "execution_count": 5,
   "id": "657266ce-8cc6-4860-8356-8febea0e8eed",
   "metadata": {},
   "outputs": [
    {
     "name": "stdout",
     "output_type": "stream",
     "text": [
      "Connecting to database\n",
      "Reading data from loaded_data table\n",
      "Mapping cities to their tier\n",
      "Saving the processed dataframe in the db in a table named 'city_tier_mapped'\n"
     ]
    }
   ],
   "source": [
    "map_city_tier(DB_PATH, DB_FILE_NAME, city_tier_mapping)"
   ]
  },
  {
   "cell_type": "code",
   "execution_count": 6,
   "id": "e6ee08e1-3913-4f94-bbac-bae77cecfff9",
   "metadata": {},
   "outputs": [
    {
     "name": "stdout",
     "output_type": "stream",
     "text": [
      "Connecting to database\n",
      "Reading data from city_tier_mapped table\n",
      "Mapping all the unsignificant variables present in first_platform_c\n",
      "Mapping all the unsignificant variables present in first_utm_medium_c\n",
      "Mapping all the unsignificant variables present in first_utm_source_c\n",
      "Saving the processed dataframe in the db in a table named 'categorical_variables_mapped'\n"
     ]
    }
   ],
   "source": [
    "map_categorical_vars(DB_PATH, DB_FILE_NAME, list_platform, list_medium, list_source)"
   ]
  },
  {
   "cell_type": "code",
   "execution_count": 2,
   "id": "848c41b6-fa2a-43f3-8df7-a5c8b327cfa9",
   "metadata": {},
   "outputs": [
    {
     "name": "stdout",
     "output_type": "stream",
     "text": [
      "Connecting to database\n",
      "Reading data from categorical_variables_mapped table\n",
      "Reading interaction_mapping from categorical_variables_mapped table\n",
      "Unpivoting the interaction columns and put the values in rows\n",
      "Handling the nulls in the interaction value column\n",
      "Mapping interaction type column with the mapping file to get interaction mapping\n",
      "Dropping the interaction type column as it is not needed\n",
      "Pivoting the interaction mapping column values to individual columns in the dataset\n",
      "Saving the processed dataframe in the db in a table named 'interactions_mapped'\n"
     ]
    }
   ],
   "source": [
    "interactions_mapping(DB_PATH, DB_FILE_NAME, INTERACTION_MAPPING, INDEX_COLUMNS)"
   ]
  },
  {
   "cell_type": "code",
   "execution_count": 3,
   "id": "d58d1a23-3d41-4b1d-9ff3-ed9960f6d7d8",
   "metadata": {},
   "outputs": [
    {
     "name": "stdout",
     "output_type": "stream",
     "text": [
      "Connecting to database\n",
      "Reading data from interactions_mapped table\n",
      "interactions_mapped column length:  13\n",
      "raw_data_schema length:  7\n",
      "Models input schema is in line with the schema present in schema.py\n"
     ]
    }
   ],
   "source": [
    "model_input_schema_check(DB_PATH, DB_FILE_NAME, model_input_schema)"
   ]
  },
  {
   "cell_type": "code",
   "execution_count": null,
   "id": "1b0da14e-bdbb-4ae0-a1c5-8eb854c2456f",
   "metadata": {},
   "outputs": [],
   "source": []
  }
 ],
 "metadata": {
  "kernelspec": {
   "display_name": "Python 3 (ipykernel)",
   "language": "python",
   "name": "python3"
  },
  "language_info": {
   "codemirror_mode": {
    "name": "ipython",
    "version": 3
   },
   "file_extension": ".py",
   "mimetype": "text/x-python",
   "name": "python",
   "nbconvert_exporter": "python",
   "pygments_lexer": "ipython3",
   "version": "3.8.12"
  }
 },
 "nbformat": 4,
 "nbformat_minor": 5
}
